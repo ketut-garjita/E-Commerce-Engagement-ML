{
 "cells": [
  {
   "cell_type": "markdown",
   "id": "9adb9218-69dd-4916-901f-6989d6242664",
   "metadata": {},
   "source": [
    "# Testing"
   ]
  },
  {
   "cell_type": "raw",
   "id": "50f40027-6f59-4382-8631-6655ac358a10",
   "metadata": {},
   "source": [
    "Run on terminal\n",
    "pyhon predict_model.py\n",
    "\n",
    " * Running on all addresses (0.0.0.0)\n",
    " * Running on http://127.0.0.1:5000\n",
    " * Running on http://192.168.241.128:5000\n",
    "Press CTRL+C to quit"
   ]
  },
  {
   "cell_type": "code",
   "execution_count": 3,
   "id": "b0992e43-ff84-4290-a0cd-9b5130bcb353",
   "metadata": {},
   "outputs": [
    {
     "name": "stdout",
     "output_type": "stream",
     "text": [
      "{\"prediction\":[[23.862144470214844]]}\n"
     ]
    }
   ],
   "source": [
    "# Use cURL or Postman for testing:\n",
    "!curl -X POST -H \"Content-Type: application/json\" -d '{\"text\": \"Hadiah langsung\"}' http://localhost:5000/predict"
   ]
  },
  {
   "cell_type": "code",
   "execution_count": 4,
   "id": "daeb9c1f-2e90-4f80-af78-3264c6ebfd39",
   "metadata": {},
   "outputs": [
    {
     "name": "stdout",
     "output_type": "stream",
     "text": [
      "{\"prediction\":[[23.862144470214844]]}\n"
     ]
    }
   ],
   "source": [
    "!curl -X POST -H \"Content-Type: application/json\" -d '{\"text\": \"Hadiah langsung\"}' http://192.168.241.128:5000/predict"
   ]
  },
  {
   "cell_type": "markdown",
   "id": "5f489176-927e-4952-9c45-6fa7eaefb1c4",
   "metadata": {},
   "source": [
    "## Features & Target\n",
    "\n",
    "- Features:- \n",
    "    - clean_tweet: Preprocessed tweet text.\n",
    "    - hashtags: The number or presence of hashtags.\n",
    "    - replies_count\n",
    "    - retweets_count\n",
    "    - likes_count\n",
    "      \n",
    "- Target:\n",
    "    - engagement: A combination of likes, replies, and retweets.\n",
    "  "
   ]
  },
  {
   "cell_type": "code",
   "execution_count": null,
   "id": "931d84dc-db36-4e8f-916d-d88193ef0026",
   "metadata": {},
   "outputs": [],
   "source": []
  }
 ],
 "metadata": {
  "kernelspec": {
   "display_name": "Python 3 (ipykernel)",
   "language": "python",
   "name": "python3"
  },
  "language_info": {
   "codemirror_mode": {
    "name": "ipython",
    "version": 3
   },
   "file_extension": ".py",
   "mimetype": "text/x-python",
   "name": "python",
   "nbconvert_exporter": "python",
   "pygments_lexer": "ipython3",
   "version": "3.11.9"
  }
 },
 "nbformat": 4,
 "nbformat_minor": 5
}
