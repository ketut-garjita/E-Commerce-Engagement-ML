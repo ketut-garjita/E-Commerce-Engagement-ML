{
 "cells": [
  {
   "cell_type": "code",
   "execution_count": null,
   "id": "ca7592cb-caef-4b91-bd71-6bd2d52ff7fb",
   "metadata": {},
   "outputs": [
    {
     "name": "stdout",
     "output_type": "stream",
     "text": [
      " * Serving Flask app '__main__'\n",
      " * Debug mode: off\n"
     ]
    },
    {
     "name": "stderr",
     "output_type": "stream",
     "text": [
      "\u001b[31m\u001b[1mWARNING: This is a development server. Do not use it in a production deployment. Use a production WSGI server instead.\u001b[0m\n",
      " * Running on all addresses (0.0.0.0)\n",
      " * Running on http://127.0.0.1:5001\n",
      " * Running on http://192.168.241.128:5001\n",
      "\u001b[33mPress CTRL+C to quit\u001b[0m\n"
     ]
    }
   ],
   "source": [
    "from flask import Flask, request, jsonify\n",
    "import requests\n",
    "import pickle\n",
    "import numpy as np\n",
    "from tensorflow.keras.preprocessing.sequence import pad_sequences\n",
    "\n",
    "app = Flask(__name__)\n",
    "\n",
    "# Load tokenizer\n",
    "with open('tokenizer.pkl', 'rb') as file:\n",
    "    tokenizer = pickle.load(file)\n",
    "\n",
    "# Maximum sequence length\n",
    "MAX_SEQUENCE_LENGTH = 20\n",
    "\n",
    "# TensorFlow Serving URL\n",
    "TF_SERVING_URL = \"http://localhost:8500/v1/models/saved_model:predict\"\n",
    "\n",
    "def preprocess_input(text):\n",
    "    # Convert text to sequences and pad\n",
    "    sequences = tokenizer.texts_to_sequences([text])\n",
    "    padded_input = pad_sequences(sequences, maxlen=MAX_SEQUENCE_LENGTH, padding='post')\n",
    "    return padded_input.tolist()\n",
    "\n",
    "@app.route('/predict', methods=['POST'])\n",
    "def predict():\n",
    "    data = request.get_json()\n",
    "    input_text = data.get('text', '')\n",
    "\n",
    "    if not input_text:\n",
    "        return jsonify({'error': 'No text provided'}), 400\n",
    "\n",
    "    try:\n",
    "        # Preprocess input\n",
    "        processed_input = preprocess_input(input_text)\n",
    "        payload = {\"instances\": processed_input}\n",
    "\n",
    "        # Send request to TensorFlow Serving\n",
    "        response = requests.post(TF_SERVING_URL, json=payload)\n",
    "        prediction = response.json()\n",
    "\n",
    "        return jsonify({'prediction': prediction})\n",
    "\n",
    "    except Exception as e:\n",
    "        return jsonify({'error': str(e)}), 500\n",
    "\n",
    "if __name__ == \"__main__\":\n",
    "    app.run(host='0.0.0.0', port=5002)\n"
   ]
  },
  {
   "cell_type": "code",
   "execution_count": null,
   "id": "293b3494-43c0-4eb6-99c7-42c4afe58f44",
   "metadata": {},
   "outputs": [],
   "source": []
  }
 ],
 "metadata": {
  "kernelspec": {
   "display_name": "Python 3 (ipykernel)",
   "language": "python",
   "name": "python3"
  },
  "language_info": {
   "codemirror_mode": {
    "name": "ipython",
    "version": 3
   },
   "file_extension": ".py",
   "mimetype": "text/x-python",
   "name": "python",
   "nbconvert_exporter": "python",
   "pygments_lexer": "ipython3",
   "version": "3.11.9"
  }
 },
 "nbformat": 4,
 "nbformat_minor": 5
}
