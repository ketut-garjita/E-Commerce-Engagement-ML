{
 "cells": [
  {
   "cell_type": "code",
   "execution_count": 1,
   "id": "6d15f236-8130-49ac-ab75-f289c1397e74",
   "metadata": {},
   "outputs": [
    {
     "name": "stdout",
     "output_type": "stream",
     "text": [
      "WARNING! Your password will be stored unencrypted in /home/hduser/.docker/config.json.\n",
      "Configure a credential helper to remove this warning. See\n",
      "https://docs.docker.com/engine/reference/commandline/login/#credentials-store\n",
      "\n",
      "Login Succeeded\n"
     ]
    }
   ],
   "source": [
    "# Authenticate Docker to AWS ECR, use the AWS CLI to authenticate Docker client\n",
    "# !aws ecr get-login-password --region ap-southeast-3 | docker login --username AWS --password-stdin 734800375959.dkr.ecr.ap-southeast-3.amazonaws.com "
   ]
  },
  {
   "cell_type": "code",
   "execution_count": 2,
   "id": "a6b8deb1-e847-4426-87aa-0b46f43953bb",
   "metadata": {},
   "outputs": [],
   "source": [
    "# Create repository\n",
    "# !aws ecr create-repository --repository-name e-commerce-engagement-model"
   ]
  },
  {
   "cell_type": "code",
   "execution_count": 3,
   "id": "eb42acf8-6104-4faf-a8f8-a7d8f1e8d117",
   "metadata": {},
   "outputs": [],
   "source": [
    "# Tag image to AWS\n",
    "# !docker tag e-commerce-engagement-model 734800375959.dkr.ecr.ap-southeast-3.amazonaws.com/e-commerce-engagement-model:latest"
   ]
  },
  {
   "cell_type": "code",
   "execution_count": 4,
   "id": "61b8d731-2b2f-49f8-9fc6-7790bba46a34",
   "metadata": {},
   "outputs": [],
   "source": [
    "# Push image\n",
    "# !docker push 734800375959.dkr.ecr.ap-southeast-3.amazonaws.com/e-commerce-engagement-model:latest"
   ]
  },
  {
   "cell_type": "raw",
   "id": "2d58d85c-a133-454f-99bb-cfc2afa0cbc6",
   "metadata": {},
   "source": [
    "# Create AWS EKS Cluster\n",
    "# !eksctl create cluster \\\n",
    "  --name tf-serving-cluster \\\n",
    "  --region ap-southeast-3 \\\n",
    "  --nodegroup-name tf-serving-nodes \\\n",
    "  --nodes 2 \\\n",
    "  --node-type t3.medium \\\n",
    "  --managed\n"
   ]
  },
  {
   "cell_type": "code",
   "execution_count": 5,
   "id": "080de2d6-d3b3-496e-bb1a-95cac2858d1f",
   "metadata": {},
   "outputs": [
    {
     "name": "stdout",
     "output_type": "stream",
     "text": [
      "NAME                                                STATUS   ROLES    AGE    VERSION\n",
      "ip-192-168-26-209.ap-southeast-3.compute.internal   Ready    <none>   109m   v1.30.7-eks-59bf375\n",
      "ip-192-168-66-51.ap-southeast-3.compute.internal    Ready    <none>   108m   v1.30.7-eks-59bf375\n"
     ]
    }
   ],
   "source": [
    "# !kubectl get nodes"
   ]
  },
  {
   "cell_type": "code",
   "execution_count": 6,
   "id": "dc24a2dd-5370-4aed-a63a-dd219b72fa7b",
   "metadata": {},
   "outputs": [],
   "source": [
    "# # !aws eks update-kubeconfig --region ap-southeast-3 --name tf-serving-cluster"
   ]
  },
  {
   "cell_type": "code",
   "execution_count": 7,
   "id": "7c15606a-c626-4b02-bc59-849d06d56c7f",
   "metadata": {},
   "outputs": [
    {
     "name": "stdout",
     "output_type": "stream",
     "text": [
      "1.30\n"
     ]
    }
   ],
   "source": [
    "# !aws eks describe-cluster --name tf-serving-cluster --query \"cluster.version\" --output text\n"
   ]
  },
  {
   "cell_type": "code",
   "execution_count": 8,
   "id": "8ae31f3f-56eb-4d4f-8c51-0a2020362dcb",
   "metadata": {},
   "outputs": [
    {
     "name": "stdout",
     "output_type": "stream",
     "text": [
      "Client Version: v1.30.0\n",
      "Kustomize Version: v5.0.4-0.20230601165947-6ce0bf390ce3\n"
     ]
    }
   ],
   "source": [
    "# !kubectl version --client"
   ]
  },
  {
   "cell_type": "code",
   "execution_count": 9,
   "id": "91d6674c-fe64-4e9a-ba75-cb1872fd98d5",
   "metadata": {},
   "outputs": [
    {
     "name": "stdout",
     "output_type": "stream",
     "text": [
      "NAME                                                STATUS   ROLES    AGE    VERSION\n",
      "ip-192-168-26-209.ap-southeast-3.compute.internal   Ready    <none>   109m   v1.30.7-eks-59bf375\n",
      "ip-192-168-66-51.ap-southeast-3.compute.internal    Ready    <none>   109m   v1.30.7-eks-59bf375\n"
     ]
    }
   ],
   "source": [
    "# !kubectl get nodes"
   ]
  },
  {
   "cell_type": "code",
   "execution_count": 27,
   "id": "8c3ec06f-c675-44f9-b96b-d2e9b4be537b",
   "metadata": {},
   "outputs": [
    {
     "name": "stdout",
     "output_type": "stream",
     "text": [
      "NAME                                              READY   STATUS    RESTARTS   AGE\n",
      "pod/tf-serving-engagement-model-ffd6f7f8b-jhcp4   1/1     Running   0          75s\n",
      "\n",
      "NAME                                  TYPE           CLUSTER-IP     EXTERNAL-IP                                                                    PORT(S)                         AGE\n",
      "service/kubernetes                    ClusterIP      10.100.0.1     <none>                                                                         443/TCP                         4h31m\n",
      "service/tf-serving-engagement-model   LoadBalancer   10.100.5.134   a09b1c4049dec41438aaf1b11012942f-1058378139.ap-southeast-3.elb.amazonaws.com   8500:32742/TCP,8501:30278/TCP   3h44m\n",
      "\n",
      "NAME                                          READY   UP-TO-DATE   AVAILABLE   AGE\n",
      "deployment.apps/tf-serving-engagement-model   1/1     1            1           3h44m\n",
      "\n",
      "NAME                                                     DESIRED   CURRENT   READY   AGE\n",
      "replicaset.apps/tf-serving-engagement-model-645f75565f   0         0         0       3h28m\n",
      "replicaset.apps/tf-serving-engagement-model-67dd8dd569   0         0         0       3h32m\n",
      "replicaset.apps/tf-serving-engagement-model-6f469c7cf6   0         0         0       3h44m\n",
      "replicaset.apps/tf-serving-engagement-model-ffd6f7f8b    1         1         1       75s\n"
     ]
    }
   ],
   "source": [
    "# !kubectl get all"
   ]
  },
  {
   "cell_type": "code",
   "execution_count": 21,
   "id": "4ee5de61-ef2f-438c-ad0f-1cfd1b6f6fb4",
   "metadata": {},
   "outputs": [
    {
     "name": "stdout",
     "output_type": "stream",
     "text": [
      "Warning: Binary output can mess up your terminal. Use \"--output -\" to tell \n",
      "Warning: curl to output it to your terminal anyway, or consider \"--output \n",
      "Warning: <FILE>\" to save to a file.\n"
     ]
    }
   ],
   "source": [
    "# !curl --http0.9 http://a09b1c4049dec41438aaf1b11012942f-1058378139.ap-southeast-3.elb.amazonaws.com:8500\n"
   ]
  },
  {
   "cell_type": "code",
   "execution_count": 12,
   "id": "2623e8ab-bc4b-49b6-8e99-2e4ce56ae6ee",
   "metadata": {},
   "outputs": [
    {
     "name": "stdout",
     "output_type": "stream",
     "text": [
      "WARNING! Your password will be stored unencrypted in /home/hduser/.docker/config.json.\n",
      "Configure a credential helper to remove this warning. See\n",
      "https://docs.docker.com/engine/reference/commandline/login/#credentials-store\n",
      "\n",
      "Login Succeeded\n"
     ]
    }
   ],
   "source": [
    "# !aws ecr get-login-password --region ap-southeast-3 | docker login --username AWS --password-stdin 734800375959.dkr.ecr.ap-southeast-3.amazonaws.com\n"
   ]
  },
  {
   "cell_type": "raw",
   "id": "04f4398f-532e-4662-87da-b37c53d98974",
   "metadata": {},
   "source": [
    "# # !kubectl create secret docker-registry ecr-secret \\\n",
    "  --docker-server=734800375959.dkr.ecr.ap-southeast-3.amazonaws.com \\\n",
    "  --docker-username=AWS \\\n",
    "  --docker-password=$(aws ecr get-login-password --region ap-southeast-3) \\\n",
    "  --docker-email=your-email@example.com\n"
   ]
  },
  {
   "cell_type": "code",
   "execution_count": 13,
   "id": "c7023a17-8d9b-4cef-8cb0-985fc490531e",
   "metadata": {},
   "outputs": [
    {
     "name": "stdout",
     "output_type": "stream",
     "text": [
      "{\n",
      "    \"imageDetails\": [\n",
      "        {\n",
      "            \"registryId\": \"734800375959\",\n",
      "            \"repositoryName\": \"e-commerce-engagement-model\",\n",
      "            \"imageDigest\": \"sha256:d46f0458a2ec64da755968304eda367e82378a0a8003c68fe2485834b3c77e0f\",\n",
      "            \"imageTags\": [\n",
      "                \"latest\"\n",
      "            ],\n",
      "            \"imageSizeInBytes\": 177002335,\n",
      "            \"imagePushedAt\": \"2024-12-21T09:33:13.414000+07:00\",\n",
      "            \"imageManifestMediaType\": \"application/vnd.docker.distribution.manifest.v2+json\",\n",
      "            \"artifactMediaType\": \"application/vnd.docker.container.image.v1+json\",\n",
      "            \"lastRecordedPullTime\": \"2024-12-21T10:46:08.998000+07:00\"\n",
      "        }\n",
      "    ]\n",
      "}\n"
     ]
    }
   ],
   "source": [
    "# !aws ecr describe-images --repository-name e-commerce-engagement-model --region ap-southeast-3\n"
   ]
  },
  {
   "cell_type": "code",
   "execution_count": 14,
   "id": "a0a3b63f-81e7-4d1f-bb6a-61260abb03cc",
   "metadata": {},
   "outputs": [
    {
     "name": "stdout",
     "output_type": "stream",
     "text": [
      "NAME                                           READY   STATUS    RESTARTS   AGE\n",
      "tf-serving-engagement-model-645f75565f-6nqwf   1/1     Running   0          52m\n"
     ]
    }
   ],
   "source": [
    "# !kubectl get pods\n"
   ]
  },
  {
   "cell_type": "code",
   "execution_count": 15,
   "id": "8ff6b2eb-9404-4902-97d3-4c628b75cd2c",
   "metadata": {},
   "outputs": [
    {
     "name": "stdout",
     "output_type": "stream",
     "text": [
      "2024-12-21 03:46:16.938219: I tensorflow_serving/model_servers/server.cc:77] Building single TensorFlow model file config:  model_name: saved_model model_base_path: /models/saved_model\n",
      "2024-12-21 03:46:16.938498: I tensorflow_serving/model_servers/server_core.cc:481] Adding/updating models.\n",
      "2024-12-21 03:46:16.938574: I tensorflow_serving/model_servers/server_core.cc:610]  (Re-)adding model: saved_model\n",
      "2024-12-21 03:46:17.112560: I tensorflow_serving/core/basic_manager.cc:771] Successfully reserved resources to load servable {name: saved_model version: 1}\n",
      "WARNING: All log messages before absl::InitializeLog() is called are written to STDERR\n",
      "I0000 00:00:1734752777.112624      16 loader_harness.cc:71] Approving load for servable version {name: saved_model version: 1}\n",
      "I0000 00:00:1734752777.112680      16 loader_harness.cc:79] Loading servable version {name: saved_model version: 1}\n",
      "2024-12-21 03:46:17.112886: I external/org_tensorflow/tensorflow/cc/saved_model/reader.cc:83] Reading SavedModel from: /models/saved_model/1\n",
      "2024-12-21 03:46:17.113627: I external/org_tensorflow/tensorflow/cc/saved_model/reader.cc:52] Reading meta graph with tags { serve }\n",
      "2024-12-21 03:46:17.113650: I external/org_tensorflow/tensorflow/cc/saved_model/reader.cc:147] Reading SavedModel debug info (if present) from: /models/saved_model/1\n",
      "2024-12-21 03:46:17.113776: I external/org_tensorflow/tensorflow/core/platform/cpu_feature_guard.cc:210] This TensorFlow binary is optimized to use available CPU instructions in performance-critical operations.\n",
      "To enable the following instructions: AVX2 AVX512F FMA, in other operations, rebuild TensorFlow with the appropriate compiler flags.\n",
      "I0000 00:00:1734752777.148738      16 mlir_graph_optimization_pass.cc:401] MLIR V1 optimization pass is not enabled\n",
      "2024-12-21 03:46:17.149511: I external/org_tensorflow/tensorflow/cc/saved_model/loader.cc:236] Restoring SavedModel bundle.\n",
      "2024-12-21 03:46:17.177800: I external/org_tensorflow/tensorflow/cc/saved_model/loader.cc:220] Running initialization op on SavedModel bundle at path: /models/saved_model/1\n",
      "2024-12-21 03:46:17.185795: I external/org_tensorflow/tensorflow/cc/saved_model/loader.cc:466] SavedModel load for tags { serve }; Status: success: OK. Took 72912 microseconds.\n",
      "2024-12-21 03:46:17.186207: I tensorflow_serving/servables/tensorflow/saved_model_warmup_util.cc:82] No warmup data file found at /models/saved_model/1/assets.extra/tf_serving_warmup_requests\n",
      "I0000 00:00:1734752777.262127      16 loader_harness.cc:100] Successfully loaded servable version {name: saved_model version: 1}\n",
      "2024-12-21 03:46:17.262842: I tensorflow_serving/model_servers/server_core.cc:502] Finished adding/updating models\n",
      "2024-12-21 03:46:17.262958: I tensorflow_serving/model_servers/server.cc:121] Using InsecureServerCredentials\n",
      "2024-12-21 03:46:17.263029: I tensorflow_serving/model_servers/server.cc:388] Profiler service is enabled\n",
      "2024-12-21 03:46:17.264468: I tensorflow_serving/model_servers/server.cc:423] Running gRPC ModelServer at 0.0.0.0:8500 ...\n",
      "2024-12-21 03:46:17.265034: I tensorflow_serving/model_servers/server.cc:444] Exporting HTTP/REST API at:localhost:8501 ...\n",
      "[evhttp_server.cc : 250] NET_LOG: Entering the event loop ...\n"
     ]
    }
   ],
   "source": [
    "# !kubectl logs tf-serving-engagement-model-645f75565f-6nqwf --tail=50\n"
   ]
  },
  {
   "cell_type": "code",
   "execution_count": 16,
   "id": "764fbd8f-3e78-49dc-bd3d-d03dc845d5bb",
   "metadata": {},
   "outputs": [
    {
     "name": "stdout",
     "output_type": "stream",
     "text": [
      "NAME                          TYPE           CLUSTER-IP     EXTERNAL-IP                                                                    PORT(S)          AGE\n",
      "kubernetes                    ClusterIP      10.100.0.1     <none>                                                                         443/TCP          115m\n",
      "tf-serving-engagement-model   LoadBalancer   10.100.5.134   a09b1c4049dec41438aaf1b11012942f-1058378139.ap-southeast-3.elb.amazonaws.com   8500:32742/TCP   68m\n"
     ]
    }
   ],
   "source": [
    "# !kubectl get services\n"
   ]
  },
  {
   "cell_type": "code",
   "execution_count": 17,
   "id": "ad97c1a1-272a-4205-9f57-876295a0b1b7",
   "metadata": {},
   "outputs": [
    {
     "name": "stdout",
     "output_type": "stream",
     "text": [
      "  % Total    % Received % Xferd  Average Speed   Time    Time     Time  Current\n",
      "                                 Dload  Upload   Total   Spent    Left  Speed\n",
      "100    92    0    63  100    29    856    394 --:--:-- --:--:-- --:--:--  1260\n"
     ]
    }
   ],
   "source": [
    "# !curl --http0.9 -X POST http://a09b1c4049dec41438aaf1b11012942f-1058378139.ap-southeast-3.elb.amazonaws.com:8500/v1/models/saved_model:predict \\\n",
    "-H \"Content-Type: application/json\" \\\n",
    "-d '{\"instances\": [[1, 2, 3, 4]]}' \\\n",
    "--output eks-test.json\n"
   ]
  },
  {
   "cell_type": "code",
   "execution_count": null,
   "id": "d368df88-3ff4-45be-986f-0ec8887079b9",
   "metadata": {},
   "outputs": [],
   "source": []
  }
 ],
 "metadata": {
  "kernelspec": {
   "display_name": "Python 3 (ipykernel)",
   "language": "python",
   "name": "python3"
  },
  "language_info": {
   "codemirror_mode": {
    "name": "ipython",
    "version": 3
   },
   "file_extension": ".py",
   "mimetype": "text/x-python",
   "name": "python",
   "nbconvert_exporter": "python",
   "pygments_lexer": "ipython3",
   "version": "3.11.9"
  }
 },
 "nbformat": 4,
 "nbformat_minor": 5
}
