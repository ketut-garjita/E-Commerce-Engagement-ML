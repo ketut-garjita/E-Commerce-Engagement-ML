{
 "cells": [
  {
   "cell_type": "markdown",
   "id": "1f327cc1-2711-4292-b39a-a19948a01472",
   "metadata": {},
   "source": [
    "## Model Deployment with TensorFlow Serving - Kubernetes\n",
    "\n",
    "### Dockerize TensorFlow Serving\n",
    "\n",
    "Create Dockerfile file:\n",
    "\n",
    "```\n",
    "# Use the official TensorFlow Serving image\n",
    "FROM tensorflow/serving:latest\n",
    "\n",
    "# Set environment variable for TensorFlow Serving to use the model\n",
    "ENV MODEL_NAME=saved_model\n",
    "\n",
    "# Copy the saved model directory into TensorFlow Serving's model path\n",
    "COPY ./saved_model /models/saved_model\n",
    "\n",
    "```\n",
    "\n",
    "Build Docker image:\n",
    "\n",
    "```\n",
    "docker build -t e-commerce-engagement-model .\n",
    "docker run -p 8500:8500 --name tensorflow-serving e-commerce-engagement-model\n",
    "\n",
    "```\n",
    "\n"
   ]
  },
  {
   "cell_type": "markdown",
   "id": "d056028b-3f7a-4860-bdcf-84d4650ee85d",
   "metadata": {},
   "source": [
    "## Container Orchestration wth Kubernetes\n",
    "\n",
    "Create config files:\n",
    "- model-deployment.yaml\n",
    "- model-ervice.yaml\n"
   ]
  },
  {
   "cell_type": "markdown",
   "id": "f1749575-b5c3-421f-84ce-e925853a66fa",
   "metadata": {},
   "source": [
    "### model-deployment.yaml\n",
    "\n",
    "```\n",
    "apiVersion: apps/v1\n",
    "kind: Deployment\n",
    "metadata:\n",
    "  name: tf-serving-engagement-model\n",
    "spec:\n",
    "  replicas: 1\n",
    "  selector:\n",
    "    matchLabels:\n",
    "      app: tf-serving-engagement-model\n",
    "  template:\n",
    "    metadata:\n",
    "      labels:\n",
    "        app: tf-serving-engagement-model\n",
    "    spec:\n",
    "      containers:\n",
    "      - name: tf-serving-engagement-model\n",
    "        image: e-commerce-engagement-model:v1\n",
    "        imagePullPolicy: IfNotPresent \n",
    "        resources:\n",
    "          limits:\n",
    "            memory: \"2048Mi\"\n",
    "            cpu: \"0.5\"\n",
    "        ports:\n",
    "        - containerPort: 8500\n",
    "\n",
    "```"
   ]
  },
  {
   "cell_type": "markdown",
   "id": "a6a048d2-7937-4578-befe-4552f282cd14",
   "metadata": {},
   "source": [
    "### model-service.yaml\n",
    "\n",
    "```\n",
    "apiVersion: v1\n",
    "kind: Service\n",
    "metadata:\n",
    "  name: tf-serving-engagement-model\n",
    "spec:\n",
    "  type: ClusterIP # default service type is always ClusterIP (i.e., internal service)\n",
    "  selector:\n",
    "    app: tf-serving-engagement-model\n",
    "  ports:\n",
    "  - port: 8500\n",
    "    targetPort: 8500\n",
    "\n",
    "```"
   ]
  },
  {
   "cell_type": "code",
   "execution_count": null,
   "id": "9be06409-f4c3-41d6-8b8b-d369da087376",
   "metadata": {},
   "outputs": [],
   "source": [
    "# !kubectl --help"
   ]
  },
  {
   "cell_type": "code",
   "execution_count": null,
   "id": "0d65a834-d3d0-4d7c-9cbc-6424fb726825",
   "metadata": {},
   "outputs": [],
   "source": [
    "# !kind load docker-image e-commerce-engagement-model:v1\n",
    "# !kind load docker-image e-commerce-engagement-model:latest"
   ]
  },
  {
   "cell_type": "code",
   "execution_count": null,
   "id": "bc16cb2d-9550-4633-ad3b-53af4fa4c888",
   "metadata": {},
   "outputs": [],
   "source": [
    "# !kubectl delete <service-name>\n",
    "# !kubectl delete <deployment.apps-name>"
   ]
  },
  {
   "cell_type": "code",
   "execution_count": null,
   "id": "f1adf90c-42b0-482f-b911-f366f4054183",
   "metadata": {},
   "outputs": [],
   "source": [
    "# !kubectl config use-context kind-kind"
   ]
  },
  {
   "cell_type": "code",
   "execution_count": null,
   "id": "2114fa28-99c4-4f2c-a442-ba5646a7ea20",
   "metadata": {},
   "outputs": [],
   "source": [
    "!kind load docker-image e-commerce-engagement-model:latest"
   ]
  },
  {
   "cell_type": "code",
   "execution_count": null,
   "id": "f0bb1ba5-175c-4738-8652-057bc876c6db",
   "metadata": {},
   "outputs": [],
   "source": [
    "!kubectl apply -f model-deployment.yaml"
   ]
  },
  {
   "cell_type": "code",
   "execution_count": null,
   "id": "e5cf0353-150e-4838-9488-1a420dc78304",
   "metadata": {},
   "outputs": [],
   "source": [
    "!kubectl apply -f model-service.yaml"
   ]
  },
  {
   "cell_type": "code",
   "execution_count": 1,
   "id": "4775fb85-6423-43b0-aa12-c58e5c9fff21",
   "metadata": {},
   "outputs": [
    {
     "name": "stdout",
     "output_type": "stream",
     "text": [
      "NAME                                               READY   STATUS    RESTARTS   AGE\n",
      "pod/gateway-58699ff766-8jsvv                       1/1     Running   0          6h10m\n",
      "pod/tf-serving-engagement-model-85d9fd4cbc-6kww8   1/1     Running   0          6h29m\n",
      "\n",
      "NAME                                  TYPE           CLUSTER-IP     EXTERNAL-IP   PORT(S)        AGE\n",
      "service/gateway                       LoadBalancer   10.96.255.10   <pending>     80:32377/TCP   6h9m\n",
      "service/kubernetes                    ClusterIP      10.96.0.1      <none>        443/TCP        32h\n",
      "service/tf-serving-engagement-model   ClusterIP      10.96.158.63   <none>        8500/TCP       6h29m\n",
      "\n",
      "NAME                                          READY   UP-TO-DATE   AVAILABLE   AGE\n",
      "deployment.apps/gateway                       1/1     1            1           6h10m\n",
      "deployment.apps/tf-serving-engagement-model   1/1     1            1           6h29m\n",
      "\n",
      "NAME                                                     DESIRED   CURRENT   READY   AGE\n",
      "replicaset.apps/gateway-58699ff766                       1         1         1       6h10m\n",
      "replicaset.apps/tf-serving-engagement-model-85d9fd4cbc   1         1         1       6h29m\n"
     ]
    }
   ],
   "source": [
    "# Retrieve information about all Kubernetes resources\n",
    "!kubectl get all "
   ]
  },
  {
   "cell_type": "code",
   "execution_count": null,
   "id": "32f69745-17fd-4eb4-8324-d136e07ce0de",
   "metadata": {},
   "outputs": [],
   "source": [
    "# !kubectl get nodes"
   ]
  },
  {
   "cell_type": "code",
   "execution_count": null,
   "id": "f19a8313-eeb2-4900-ab70-68f87151c781",
   "metadata": {},
   "outputs": [],
   "source": [
    "# !kubectl get services"
   ]
  },
  {
   "cell_type": "code",
   "execution_count": null,
   "id": "ea2e6888-f9a6-4bc5-9337-d2c5757dc3e5",
   "metadata": {},
   "outputs": [],
   "source": [
    "# !kubectl logs <pod>"
   ]
  },
  {
   "cell_type": "code",
   "execution_count": null,
   "id": "41a8762b-9147-41f5-ac8d-757f38dd5010",
   "metadata": {},
   "outputs": [],
   "source": [
    "# !kubectl cluster-info"
   ]
  },
  {
   "cell_type": "code",
   "execution_count": null,
   "id": "a5da9daf-d65a-41e9-968e-76a70d7064c8",
   "metadata": {},
   "outputs": [],
   "source": [
    "# !kubectl get <pod> -o wide"
   ]
  },
  {
   "cell_type": "code",
   "execution_count": null,
   "id": "e3c0ba0b-8879-4314-b945-a74a931851cd",
   "metadata": {},
   "outputs": [],
   "source": [
    "# !kubectl describe <pod>"
   ]
  },
  {
   "cell_type": "code",
   "execution_count": null,
   "id": "9574f71e-9251-4c95-80eb-7db51a073980",
   "metadata": {},
   "outputs": [],
   "source": [
    "# terminal\n",
    "# kubectl port-forward <podd> <port>:<port>"
   ]
  },
  {
   "cell_type": "code",
   "execution_count": null,
   "id": "e9adad4e-12e9-46fe-bfa5-d4b54ad16687",
   "metadata": {},
   "outputs": [],
   "source": [
    "# !kubectl port-forward svc/<servive-name> <port>:<port>"
   ]
  },
  {
   "cell_type": "code",
   "execution_count": null,
   "id": "72ec26fe-c87b-4285-8998-ac736242b96b",
   "metadata": {},
   "outputs": [],
   "source": [
    "# !kubectl logs <pod>"
   ]
  },
  {
   "cell_type": "code",
   "execution_count": null,
   "id": "922f14d2-585a-491a-9408-93f8e4886c5f",
   "metadata": {},
   "outputs": [],
   "source": [
    "# !kubectl exec -it pod/tf-serving-engagement-model-85d9fd4cbc-6kww8 -- ls -l  /models/saved_model/1"
   ]
  },
  {
   "cell_type": "code",
   "execution_count": null,
   "id": "4589377f-1bf9-47f1-a4c6-a99b56a9f8e2",
   "metadata": {},
   "outputs": [],
   "source": [
    "# !kubectl delete pod tensorflow-serving-66dcc564fb-frt6d "
   ]
  },
  {
   "cell_type": "code",
   "execution_count": null,
   "id": "f45f5a99-57dc-4948-8234-24f3679dbddc",
   "metadata": {},
   "outputs": [],
   "source": []
  }
 ],
 "metadata": {
  "kernelspec": {
   "display_name": "Python 3 (ipykernel)",
   "language": "python",
   "name": "python3"
  },
  "language_info": {
   "codemirror_mode": {
    "name": "ipython",
    "version": 3
   },
   "file_extension": ".py",
   "mimetype": "text/x-python",
   "name": "python",
   "nbconvert_exporter": "python",
   "pygments_lexer": "ipython3",
   "version": "3.11.9"
  }
 },
 "nbformat": 4,
 "nbformat_minor": 5
}
