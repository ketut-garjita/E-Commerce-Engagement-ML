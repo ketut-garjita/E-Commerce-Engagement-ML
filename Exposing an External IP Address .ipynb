{
 "cells": [
  {
   "cell_type": "markdown",
   "id": "c5edd950-df69-42b3-b7b7-a00a6314dea6",
   "metadata": {},
   "source": [
    "### Exposing an External IP Address to Access an Application in a Cluster\n",
    "### example\n"
   ]
  },
  {
   "cell_type": "markdown",
   "id": "233c78fd-efd8-4cf8-88b4-34903a78a2bd",
   "metadata": {},
   "source": [
    "### hello-world\n",
    "\n",
    "https://kubernetes.io/docs/tutorials/stateless-application/expose-external-ip-address/\n"
   ]
  },
  {
   "cell_type": "code",
   "execution_count": 1,
   "id": "360e6c3e-b18b-4860-8651-66c85d691b4f",
   "metadata": {},
   "outputs": [
    {
     "name": "stdout",
     "output_type": "stream",
     "text": [
      "deployment.apps/hello-world created\n"
     ]
    }
   ],
   "source": [
    "!kubectl apply -f https://k8s.io/examples/service/load-balancer-example.yaml"
   ]
  },
  {
   "cell_type": "code",
   "execution_count": 2,
   "id": "975b52d3-6d65-43c4-8fe1-d47476bff0e5",
   "metadata": {},
   "outputs": [
    {
     "name": "stdout",
     "output_type": "stream",
     "text": [
      "NAME          READY   UP-TO-DATE   AVAILABLE   AGE\n",
      "hello-world   0/5     5            0           0s\n"
     ]
    }
   ],
   "source": [
    "!kubectl get deployments hello-world"
   ]
  },
  {
   "cell_type": "code",
   "execution_count": 3,
   "id": "28f679cc-7469-4f84-8a47-652158ab30bf",
   "metadata": {},
   "outputs": [
    {
     "name": "stdout",
     "output_type": "stream",
     "text": [
      "Name:                   hello-world\n",
      "Namespace:              default\n",
      "CreationTimestamp:      Thu, 19 Dec 2024 17:32:29 +0700\n",
      "Labels:                 app.kubernetes.io/name=load-balancer-example\n",
      "Annotations:            deployment.kubernetes.io/revision: 1\n",
      "Selector:               app.kubernetes.io/name=load-balancer-example\n",
      "Replicas:               5 desired | 5 updated | 5 total | 0 available | 5 unavailable\n",
      "StrategyType:           RollingUpdate\n",
      "MinReadySeconds:        0\n",
      "RollingUpdateStrategy:  25% max unavailable, 25% max surge\n",
      "Pod Template:\n",
      "  Labels:  app.kubernetes.io/name=load-balancer-example\n",
      "  Containers:\n",
      "   hello-world:\n",
      "    Image:         gcr.io/google-samples/hello-app:2.0\n",
      "    Port:          8080/TCP\n",
      "    Host Port:     0/TCP\n",
      "    Environment:   <none>\n",
      "    Mounts:        <none>\n",
      "  Volumes:         <none>\n",
      "  Node-Selectors:  <none>\n",
      "  Tolerations:     <none>\n",
      "Conditions:\n",
      "  Type           Status  Reason\n",
      "  ----           ------  ------\n",
      "  Available      False   MinimumReplicasUnavailable\n",
      "  Progressing    True    ReplicaSetUpdated\n",
      "OldReplicaSets:  <none>\n",
      "NewReplicaSet:   hello-world-7765b456bb (5/5 replicas created)\n",
      "Events:\n",
      "  Type    Reason             Age   From                   Message\n",
      "  ----    ------             ----  ----                   -------\n",
      "  Normal  ScalingReplicaSet  0s    deployment-controller  Scaled up replica set hello-world-7765b456bb to 5\n"
     ]
    }
   ],
   "source": [
    "!kubectl describe deployments hello-world"
   ]
  },
  {
   "cell_type": "code",
   "execution_count": 4,
   "id": "17746520-f91c-4705-adc2-4bc3b58ddfc1",
   "metadata": {},
   "outputs": [
    {
     "name": "stdout",
     "output_type": "stream",
     "text": [
      "NAME                                   DESIRED   CURRENT   READY   AGE\n",
      "e-commerce-engagement-model-85b4847d   2         2         2       4h34m\n",
      "hello-world-7765b456bb                 5         5         0       0s\n"
     ]
    }
   ],
   "source": [
    "!kubectl get replicasets"
   ]
  },
  {
   "cell_type": "code",
   "execution_count": 5,
   "id": "1b97aa1f-99fe-4d36-8c21-e0870fc9857d",
   "metadata": {},
   "outputs": [
    {
     "name": "stdout",
     "output_type": "stream",
     "text": [
      "Name:           e-commerce-engagement-model-85b4847d\n",
      "Namespace:      default\n",
      "Selector:       app=e-commerce-engagement-model,pod-template-hash=85b4847d\n",
      "Labels:         app=e-commerce-engagement-model\n",
      "                pod-template-hash=85b4847d\n",
      "Annotations:    deployment.kubernetes.io/desired-replicas: 2\n",
      "                deployment.kubernetes.io/max-replicas: 3\n",
      "                deployment.kubernetes.io/revision: 1\n",
      "Controlled By:  Deployment/e-commerce-engagement-model\n",
      "Replicas:       2 current / 2 desired\n",
      "Pods Status:    2 Running / 0 Waiting / 0 Succeeded / 0 Failed\n",
      "Pod Template:\n",
      "  Labels:  app=e-commerce-engagement-model\n",
      "           pod-template-hash=85b4847d\n",
      "  Containers:\n",
      "   e-commerce-engagement-model:\n",
      "    Image:         e-commerce-engagement-model:latest\n",
      "    Port:          8501/TCP\n",
      "    Host Port:     0/TCP\n",
      "    Environment:   <none>\n",
      "    Mounts:        <none>\n",
      "  Volumes:         <none>\n",
      "  Node-Selectors:  <none>\n",
      "  Tolerations:     <none>\n",
      "Events:            <none>\n",
      "\n",
      "\n",
      "Name:           hello-world-7765b456bb\n",
      "Namespace:      default\n",
      "Selector:       app.kubernetes.io/name=load-balancer-example,pod-template-hash=7765b456bb\n",
      "Labels:         app.kubernetes.io/name=load-balancer-example\n",
      "                pod-template-hash=7765b456bb\n",
      "Annotations:    deployment.kubernetes.io/desired-replicas: 5\n",
      "                deployment.kubernetes.io/max-replicas: 7\n",
      "                deployment.kubernetes.io/revision: 1\n",
      "Controlled By:  Deployment/hello-world\n",
      "Replicas:       5 current / 5 desired\n",
      "Pods Status:    0 Running / 5 Waiting / 0 Succeeded / 0 Failed\n",
      "Pod Template:\n",
      "  Labels:  app.kubernetes.io/name=load-balancer-example\n",
      "           pod-template-hash=7765b456bb\n",
      "  Containers:\n",
      "   hello-world:\n",
      "    Image:         gcr.io/google-samples/hello-app:2.0\n",
      "    Port:          8080/TCP\n",
      "    Host Port:     0/TCP\n",
      "    Environment:   <none>\n",
      "    Mounts:        <none>\n",
      "  Volumes:         <none>\n",
      "  Node-Selectors:  <none>\n",
      "  Tolerations:     <none>\n",
      "Events:\n",
      "  Type    Reason            Age   From                   Message\n",
      "  ----    ------            ----  ----                   -------\n",
      "  Normal  SuccessfulCreate  0s    replicaset-controller  Created pod: hello-world-7765b456bb-l8qdg\n",
      "  Normal  SuccessfulCreate  0s    replicaset-controller  Created pod: hello-world-7765b456bb-p4czk\n",
      "  Normal  SuccessfulCreate  0s    replicaset-controller  Created pod: hello-world-7765b456bb-q98dh\n",
      "  Normal  SuccessfulCreate  0s    replicaset-controller  Created pod: hello-world-7765b456bb-fjx5l\n",
      "  Normal  SuccessfulCreate  0s    replicaset-controller  Created pod: hello-world-7765b456bb-vwtwv\n"
     ]
    }
   ],
   "source": [
    "!kubectl describe replicasets"
   ]
  },
  {
   "cell_type": "code",
   "execution_count": 6,
   "id": "dc4c2da8-2448-4938-9088-fc6dede696cd",
   "metadata": {},
   "outputs": [
    {
     "name": "stdout",
     "output_type": "stream",
     "text": [
      "service/my-service exposed\n"
     ]
    }
   ],
   "source": [
    "!kubectl expose deployment hello-world --type=LoadBalancer --name=my-service"
   ]
  },
  {
   "cell_type": "code",
   "execution_count": 7,
   "id": "15b719aa-31ce-4140-b486-d17c599b4eec",
   "metadata": {},
   "outputs": [
    {
     "name": "stdout",
     "output_type": "stream",
     "text": [
      "NAME         TYPE           CLUSTER-IP     EXTERNAL-IP   PORT(S)          AGE\n",
      "my-service   LoadBalancer   10.96.177.61   <pending>     8080:30994/TCP   1s\n"
     ]
    }
   ],
   "source": [
    "!kubectl get services my-service"
   ]
  },
  {
   "cell_type": "code",
   "execution_count": 8,
   "id": "79434320-aa40-4acc-bfed-a2fc0ae0d2fa",
   "metadata": {},
   "outputs": [
    {
     "name": "stdout",
     "output_type": "stream",
     "text": [
      "NAME                                             READY   STATUS              RESTARTS   AGE\n",
      "pod/e-commerce-engagement-model-85b4847d-dzczw   1/1     Running             0          4h34m\n",
      "pod/e-commerce-engagement-model-85b4847d-rvgkm   1/1     Running             0          4h34m\n",
      "pod/hello-world-7765b456bb-fjx5l                 0/1     ContainerCreating   0          1s\n",
      "pod/hello-world-7765b456bb-l8qdg                 0/1     ContainerCreating   0          1s\n",
      "pod/hello-world-7765b456bb-p4czk                 0/1     ContainerCreating   0          1s\n",
      "pod/hello-world-7765b456bb-q98dh                 0/1     ContainerCreating   0          1s\n",
      "pod/hello-world-7765b456bb-vwtwv                 0/1     ContainerCreating   0          1s\n",
      "\n",
      "NAME                                  TYPE           CLUSTER-IP      EXTERNAL-IP      PORT(S)          AGE\n",
      "service/e-commerce-engagement-model   NodePort       10.96.195.241   192.168.68.100   80:30007/TCP     4h20m\n",
      "service/kubernetes                    ClusterIP      10.96.0.1       192.168.68.100   443/TCP          4h42m\n",
      "service/my-service                    LoadBalancer   10.96.177.61    <pending>        8080:30994/TCP   1s\n",
      "\n",
      "NAME                                          READY   UP-TO-DATE   AVAILABLE   AGE\n",
      "deployment.apps/e-commerce-engagement-model   2/2     2            2           4h34m\n",
      "deployment.apps/hello-world                   0/5     5            0           1s\n",
      "\n",
      "NAME                                                   DESIRED   CURRENT   READY   AGE\n",
      "replicaset.apps/e-commerce-engagement-model-85b4847d   2         2         2       4h34m\n",
      "replicaset.apps/hello-world-7765b456bb                 5         5         0       1s\n"
     ]
    }
   ],
   "source": [
    "!kubectl get all"
   ]
  },
  {
   "cell_type": "code",
   "execution_count": 9,
   "id": "708413a9-e47f-4020-bf45-11f3cb19e9b6",
   "metadata": {},
   "outputs": [
    {
     "name": "stdout",
     "output_type": "stream",
     "text": [
      "error: error from server (NotFound): pods \"hello-world-7765b456bb-mfkm9\" not found in namespace \"default\"\n"
     ]
    }
   ],
   "source": [
    "!kubectl logs hello-world-7765b456bb-mfkm9\n",
    "\n",
    "# terminal\n",
    "# !kubectl port-forward service/my-service 8080:8080"
   ]
  },
  {
   "cell_type": "code",
   "execution_count": 10,
   "id": "5fc291a1-5d56-4f90-a2f1-e41f28b5fb93",
   "metadata": {},
   "outputs": [
    {
     "name": "stdout",
     "output_type": "stream",
     "text": [
      "curl: (7) Failed to connect to localhost port 8080 after 0 ms: Connection refused\n"
     ]
    }
   ],
   "source": [
    "!curl -X POST http://localhost:8080"
   ]
  },
  {
   "cell_type": "code",
   "execution_count": 11,
   "id": "05f4765a-6b58-4dab-ab04-c390b89d91b3",
   "metadata": {},
   "outputs": [
    {
     "name": "stdout",
     "output_type": "stream",
     "text": [
      "service \"my-service\" deleted\n",
      "deployment.apps \"hello-world\" deleted\n"
     ]
    }
   ],
   "source": [
    "# Delete service and deployment\n",
    "!kubectl delete svc my-service\n",
    "!kubectl delete deployment hello-world"
   ]
  },
  {
   "cell_type": "markdown",
   "id": "2b6f8b50-5239-4b17-8ec2-96b6824ac0f1",
   "metadata": {},
   "source": [
    "### web-service\n",
    "\n",
    "https://thelinuxcode.com/expose-kubernetes-service-external-ip-address/\n"
   ]
  },
  {
   "cell_type": "code",
   "execution_count": 12,
   "id": "9792d93b-2842-43a6-832c-965592d93c47",
   "metadata": {},
   "outputs": [
    {
     "name": "stdout",
     "output_type": "stream",
     "text": [
      "deployment.apps/web created\n"
     ]
    }
   ],
   "source": [
    "!kubectl create deployment web --image=gcr.io/google-samples/hello-app:1.0  "
   ]
  },
  {
   "cell_type": "code",
   "execution_count": 13,
   "id": "6489fc25-1878-408e-8ec2-aefbc5d5305b",
   "metadata": {},
   "outputs": [
    {
     "data": {
      "text/plain": [
       "['NAME                                         READY   STATUS        RESTARTS   AGE',\n",
       " 'e-commerce-engagement-model-85b4847d-dzczw   1/1     Running       0          4h34m',\n",
       " 'e-commerce-engagement-model-85b4847d-rvgkm   1/1     Running       0          4h34m',\n",
       " 'hello-world-7765b456bb-fjx5l                 1/1     Terminating   0          2s',\n",
       " 'hello-world-7765b456bb-l8qdg                 0/1     Terminating   0          2s',\n",
       " 'hello-world-7765b456bb-p4czk                 1/1     Terminating   0          2s',\n",
       " 'hello-world-7765b456bb-q98dh                 0/1     Terminating   0          2s',\n",
       " 'hello-world-7765b456bb-vwtwv                 0/1     Terminating   0          2s',\n",
       " 'web-84fb9498c7-m6fl5                         0/1     Pending       0          0s']"
      ]
     },
     "execution_count": 13,
     "metadata": {},
     "output_type": "execute_result"
    }
   ],
   "source": [
    "!!kubectl get pods"
   ]
  },
  {
   "cell_type": "code",
   "execution_count": 14,
   "id": "624c6c1b-45bd-4ccf-bb20-9c29dfadda39",
   "metadata": {},
   "outputs": [
    {
     "name": "stdout",
     "output_type": "stream",
     "text": [
      "service/web-service created\n"
     ]
    }
   ],
   "source": [
    "!kubectl apply -f web-service.yaml"
   ]
  },
  {
   "cell_type": "code",
   "execution_count": 15,
   "id": "3ed98837-1b59-4455-9a18-57ae0a0b5867",
   "metadata": {},
   "outputs": [
    {
     "name": "stdout",
     "output_type": "stream",
     "text": [
      "Name:                     web-service\n",
      "Namespace:                default\n",
      "Labels:                   <none>\n",
      "Annotations:              <none>\n",
      "Selector:                 app=web\n",
      "Type:                     LoadBalancer\n",
      "IP Family Policy:         SingleStack\n",
      "IP Families:              IPv4\n",
      "IP:                       10.96.240.106\n",
      "IPs:                      10.96.240.106\n",
      "Port:                     <unset>  80/TCP\n",
      "TargetPort:               8080/TCP\n",
      "NodePort:                 <unset>  30535/TCP\n",
      "Endpoints:                \n",
      "Session Affinity:         None\n",
      "External Traffic Policy:  Cluster\n",
      "Internal Traffic Policy:  Cluster\n",
      "Events:                   <none>\n"
     ]
    }
   ],
   "source": [
    "!kubectl describe service web-service"
   ]
  },
  {
   "cell_type": "code",
   "execution_count": 16,
   "id": "39641935-d4ee-4a53-8c5f-f83cb5b7a6b4",
   "metadata": {},
   "outputs": [
    {
     "name": "stdout",
     "output_type": "stream",
     "text": [
      "NAME                          TYPE           CLUSTER-IP      EXTERNAL-IP      PORT(S)        AGE\n",
      "e-commerce-engagement-model   NodePort       10.96.195.241   192.168.68.100   80:30007/TCP   4h20m\n",
      "kubernetes                    ClusterIP      10.96.0.1       192.168.68.100   443/TCP        4h42m\n",
      "web-service                   LoadBalancer   10.96.240.106   <pending>        80:30535/TCP   0s\n"
     ]
    }
   ],
   "source": [
    "!kubectl get services"
   ]
  },
  {
   "cell_type": "code",
   "execution_count": 17,
   "id": "ea952257-635b-4e64-b52f-6db680811a9e",
   "metadata": {},
   "outputs": [
    {
     "name": "stdout",
     "output_type": "stream",
     "text": [
      "service \"web-service\" deleted\n",
      "deployment.apps \"web\" deleted\n"
     ]
    }
   ],
   "source": [
    "!kubectl delete svc web-service\n",
    "\n",
    "!kubectl delete deployment web"
   ]
  },
  {
   "cell_type": "code",
   "execution_count": 18,
   "id": "0453609e-d50c-4136-87e5-5b3572ea3fe2",
   "metadata": {},
   "outputs": [
    {
     "name": "stdout",
     "output_type": "stream",
     "text": [
      "NAME                          TYPE        CLUSTER-IP      EXTERNAL-IP      PORT(S)        AGE\n",
      "e-commerce-engagement-model   NodePort    10.96.195.241   192.168.68.100   80:30007/TCP   4h20m\n",
      "kubernetes                    ClusterIP   10.96.0.1       192.168.68.100   443/TCP        4h42m\n"
     ]
    }
   ],
   "source": [
    "!kubectl get services"
   ]
  },
  {
   "cell_type": "code",
   "execution_count": null,
   "id": "3ebc666f-231e-498c-8e69-7d3e50e65878",
   "metadata": {},
   "outputs": [],
   "source": []
  }
 ],
 "metadata": {
  "kernelspec": {
   "display_name": "Python 3 (ipykernel)",
   "language": "python",
   "name": "python3"
  },
  "language_info": {
   "codemirror_mode": {
    "name": "ipython",
    "version": 3
   },
   "file_extension": ".py",
   "mimetype": "text/x-python",
   "name": "python",
   "nbconvert_exporter": "python",
   "pygments_lexer": "ipython3",
   "version": "3.11.9"
  }
 },
 "nbformat": 4,
 "nbformat_minor": 5
}
