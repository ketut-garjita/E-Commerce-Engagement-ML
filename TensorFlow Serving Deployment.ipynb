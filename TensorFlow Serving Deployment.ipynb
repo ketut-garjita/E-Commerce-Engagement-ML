{
 "cells": [
  {
   "cell_type": "markdown",
   "id": "1f327cc1-2711-4292-b39a-a19948a01472",
   "metadata": {},
   "source": [
    "## Model Deployment with TensorFlow Serving - Kubernetes\n",
    "\n",
    "### Dockerize TensorFlow Serving\n",
    "\n",
    "Create Dockerfile file:\n",
    "\n",
    "```\n",
    "# Use the official TensorFlow Serving image\n",
    "FROM tensorflow/serving:latest\n",
    "\n",
    "# Create the model directory at /models\n",
    "RUN mkdir -p /models/saved_model/1\n",
    "\n",
    "# Copy the model to the correct directory\n",
    "COPY ./saved_model/* /models/saved_model/1/\n",
    "\n",
    "# Set environment variable for TensorFlow Serving to use the model\n",
    "ENV MODEL_NAME=saved_model\n",
    "\n",
    "```\n",
    "\n",
    "Build Docker image:\n",
    "\n",
    "```\n",
    "docker build -t e-commerce-engagement-model .\n",
    "docker run -p 8501:8501 --name e-commerce-engagement e-commerce-engagement-model\n",
    "\n",
    "```\n",
    "\n"
   ]
  },
  {
   "cell_type": "markdown",
   "id": "d056028b-3f7a-4860-bdcf-84d4650ee85d",
   "metadata": {},
   "source": [
    "## Container Orchestration wth Kubernetes\n",
    "\n",
    "Create config files:\n",
    "- deployment.yaml\n",
    "- service.yaml\n"
   ]
  },
  {
   "cell_type": "markdown",
   "id": "f1749575-b5c3-421f-84ce-e925853a66fa",
   "metadata": {},
   "source": [
    "### deployment.yaml\n",
    "\n",
    "```\n",
    "apiVersion: apps/v1\n",
    "kind: Deployment\n",
    "metadata:\n",
    "  name: e-commerce-engagement-model\n",
    "spec:\n",
    "  replicas: 2\n",
    "  selector:\n",
    "    matchLabels:\n",
    "      app: e-commerce-engagement-model  # Make sure this matches the template labels\n",
    "  template:\n",
    "    metadata:\n",
    "      labels:\n",
    "        app: e-commerce-engagement-model\n",
    "    spec:\n",
    "      containers:\n",
    "      - name: e-commerce-engagement-model\n",
    "        image: e-commerce-engagement-model:latest \n",
    "        imagePullPolicy: IfNotPresent  # to solve READY 0/1 status (error) of kubectl get pods command \n",
    "        ports:\n",
    "        - containerPort: 8501\n",
    "# Note: apply with command: kubectl apply -f deployment.yaml\n",
    "\n",
    "```"
   ]
  },
  {
   "cell_type": "markdown",
   "id": "a6a048d2-7937-4578-befe-4552f282cd14",
   "metadata": {},
   "source": [
    "### service.yaml\n",
    "\n",
    "```\n",
    "apiVersion: v1\n",
    "kind: Service\n",
    "metadata:\n",
    "  name: e-commerce-engagement-model\n",
    "spec:\n",
    "  type: NodePort \n",
    "  selector:\n",
    "    app: e-commerce-engagement-model\n",
    "  ports:\n",
    "    - port: 80\n",
    "      targetPort: 8501\n",
    "      nodePort: 30007  # NodePort range: 30000-32767\n",
    "  externalIPs: \n",
    "    - 192.168.68.100\n",
    "\n",
    "```"
   ]
  },
  {
   "cell_type": "raw",
   "id": "75169bdc-64ec-4d7d-8794-647c2bd43b22",
   "metadata": {},
   "source": [
    "!kubectl delete service/e-commerce-engagement-model"
   ]
  },
  {
   "cell_type": "raw",
   "id": "f23a1754-2e6c-4c72-9c0b-9ae0787b5209",
   "metadata": {},
   "source": [
    "!kubectl delete deployment.apps/e-commerce-engagement-model "
   ]
  },
  {
   "cell_type": "raw",
   "id": "313dde50-1072-4864-8e58-ac796019283b",
   "metadata": {},
   "source": [
    "!kubectl config use-context kind-kind"
   ]
  },
  {
   "cell_type": "code",
   "execution_count": 1,
   "id": "f0bb1ba5-175c-4738-8652-057bc876c6db",
   "metadata": {},
   "outputs": [
    {
     "name": "stdout",
     "output_type": "stream",
     "text": [
      "deployment.apps/e-commerce-engagement-model unchanged\n"
     ]
    }
   ],
   "source": [
    "!kubectl apply -f deployment.yaml"
   ]
  },
  {
   "cell_type": "code",
   "execution_count": 2,
   "id": "e5cf0353-150e-4838-9488-1a420dc78304",
   "metadata": {},
   "outputs": [
    {
     "name": "stdout",
     "output_type": "stream",
     "text": [
      "service/e-commerce-engagement-model unchanged\n"
     ]
    }
   ],
   "source": [
    "!kubectl apply -f service.yaml"
   ]
  },
  {
   "cell_type": "code",
   "execution_count": 3,
   "id": "2114fa28-99c4-4f2c-a442-ba5646a7ea20",
   "metadata": {},
   "outputs": [
    {
     "name": "stdout",
     "output_type": "stream",
     "text": [
      "Image: \"e-commerce-engagement-model:latest\" with ID \"sha256:c2d8d64ef541518e54dd0baf0f615b330398160700bce824aae9fb503f2df16a\" found to be already present on all nodes.\n"
     ]
    }
   ],
   "source": [
    "!kind load docker-image e-commerce-engagement-model:latest"
   ]
  },
  {
   "cell_type": "code",
   "execution_count": 4,
   "id": "32f69745-17fd-4eb4-8324-d136e07ce0de",
   "metadata": {},
   "outputs": [
    {
     "name": "stdout",
     "output_type": "stream",
     "text": [
      "NAME                 STATUS   ROLES           AGE     VERSION\n",
      "kind-control-plane   Ready    control-plane   6h59m   v1.25.3\n"
     ]
    }
   ],
   "source": [
    "!kubectl get nodes"
   ]
  },
  {
   "cell_type": "code",
   "execution_count": 5,
   "id": "f19a8313-eeb2-4900-ab70-68f87151c781",
   "metadata": {},
   "outputs": [
    {
     "name": "stdout",
     "output_type": "stream",
     "text": [
      "NAME                          TYPE        CLUSTER-IP     EXTERNAL-IP      PORT(S)        AGE\n",
      "e-commerce-engagement-model   NodePort    10.96.110.39   192.168.68.100   80:30007/TCP   110s\n",
      "kubernetes                    ClusterIP   10.96.0.1      192.168.68.99    443/TCP        6h59m\n"
     ]
    }
   ],
   "source": [
    "!kubectl get services"
   ]
  },
  {
   "cell_type": "code",
   "execution_count": 6,
   "id": "4775fb85-6423-43b0-aa12-c58e5c9fff21",
   "metadata": {},
   "outputs": [
    {
     "name": "stdout",
     "output_type": "stream",
     "text": [
      "NAME                                             READY   STATUS    RESTARTS   AGE\n",
      "pod/e-commerce-engagement-model-85b4847d-dzczw   1/1     Running   0          6h51m\n",
      "pod/e-commerce-engagement-model-85b4847d-rvgkm   1/1     Running   0          6h51m\n",
      "\n",
      "NAME                                  TYPE        CLUSTER-IP     EXTERNAL-IP      PORT(S)        AGE\n",
      "service/e-commerce-engagement-model   NodePort    10.96.110.39   192.168.68.100   80:30007/TCP   110s\n",
      "service/kubernetes                    ClusterIP   10.96.0.1      192.168.68.99    443/TCP        6h59m\n",
      "\n",
      "NAME                                          READY   UP-TO-DATE   AVAILABLE   AGE\n",
      "deployment.apps/e-commerce-engagement-model   2/2     2            2           6h51m\n",
      "\n",
      "NAME                                                   DESIRED   CURRENT   READY   AGE\n",
      "replicaset.apps/e-commerce-engagement-model-85b4847d   2         2         2       6h51m\n"
     ]
    }
   ],
   "source": [
    "# Retrieve information about all Kubernetes resources\n",
    "!kubectl get all"
   ]
  },
  {
   "cell_type": "code",
   "execution_count": 7,
   "id": "41a8762b-9147-41f5-ac8d-757f38dd5010",
   "metadata": {},
   "outputs": [
    {
     "name": "stdout",
     "output_type": "stream",
     "text": [
      "Kubernetes control plane is running at https://127.0.0.1:38847\n",
      "CoreDNS is running at https://127.0.0.1:38847/api/v1/namespaces/kube-system/services/kube-dns:dns/proxy\n",
      "\n",
      "To further debug and diagnose cluster problems, use 'kubectl cluster-info dump'.\n"
     ]
    }
   ],
   "source": [
    "!kubectl cluster-info"
   ]
  },
  {
   "cell_type": "code",
   "execution_count": 8,
   "id": "3e76be0b-4087-4844-9e76-2f47688e1dc8",
   "metadata": {},
   "outputs": [
    {
     "name": "stdout",
     "output_type": "stream",
     "text": [
      "NAME                 STATUS   ROLES           AGE     VERSION   INTERNAL-IP   EXTERNAL-IP   OS-IMAGE             KERNEL-VERSION       CONTAINER-RUNTIME\n",
      "kind-control-plane   Ready    control-plane   6h59m   v1.25.3   172.18.0.2    <none>        Ubuntu 22.04.1 LTS   5.15.0-128-generic   containerd://1.6.9\n"
     ]
    }
   ],
   "source": [
    "!kubectl get nodes -o wide"
   ]
  },
  {
   "cell_type": "raw",
   "id": "d3753311-2472-4196-9b6a-d638a1aaf6ad",
   "metadata": {},
   "source": [
    "!kubectl --help"
   ]
  },
  {
   "cell_type": "raw",
   "id": "7af0b267-da4f-4125-ab34-fb9cf111cf10",
   "metadata": {},
   "source": [
    "!kubectl api-resources"
   ]
  },
  {
   "cell_type": "code",
   "execution_count": 9,
   "id": "9574f71e-9251-4c95-80eb-7db51a073980",
   "metadata": {},
   "outputs": [],
   "source": [
    "# terminal\n",
    "# !kubectl port-forward pod/e-commerce-engagement-model-85b4847d-dzczw 5000:5000"
   ]
  },
  {
   "cell_type": "markdown",
   "id": "73118f24-ecfd-4f78-8390-f458bb72dea9",
   "metadata": {},
   "source": [
    "## Testing locally (noy using External IP)"
   ]
  },
  {
   "cell_type": "code",
   "execution_count": 10,
   "id": "9fa8eed7-ba41-4ba3-bbba-a244382bc9b1",
   "metadata": {},
   "outputs": [
    {
     "name": "stdout",
     "output_type": "stream",
     "text": [
      "{\"prediction\":[[23.862144470214844]]}\n"
     ]
    }
   ],
   "source": [
    "!curl -X POST http://localhost:5000/predict -H \"Content-Type: application/json\" -d '{\"text\": \"Hadiah langsung\"}' "
   ]
  },
  {
   "cell_type": "markdown",
   "id": "9ec1a91f-fede-40db-9528-201cc8c7fffa",
   "metadata": {},
   "source": [
    "## External IP "
   ]
  },
  {
   "cell_type": "raw",
   "id": "44999f35-d39d-407b-96fc-34893547853e",
   "metadata": {},
   "source": [
    "!kubectl patch svc kubernetes  -p '{\"spec\":{\"externalIPs\":[\"192.168.68.99\"]}}'"
   ]
  },
  {
   "cell_type": "raw",
   "id": "12c9882e-a964-46e7-b8a1-40dc72697fc8",
   "metadata": {},
   "source": [
    "!kubectl patch svc e-commerce-engagement-model -p '{\"spec\":{\"externalIPs\":[\"192.168.68.100\"]}}'"
   ]
  },
  {
   "cell_type": "code",
   "execution_count": 11,
   "id": "da31a437-dacb-4427-bbd5-fb686c8ccf5e",
   "metadata": {},
   "outputs": [
    {
     "name": "stdout",
     "output_type": "stream",
     "text": [
      "NAME                          TYPE        CLUSTER-IP     EXTERNAL-IP      PORT(S)        AGE\n",
      "e-commerce-engagement-model   NodePort    10.96.110.39   192.168.68.100   80:30007/TCP   111s\n",
      "kubernetes                    ClusterIP   10.96.0.1      192.168.68.99    443/TCP        6h59m\n"
     ]
    }
   ],
   "source": [
    "!kubectl get services"
   ]
  },
  {
   "cell_type": "code",
   "execution_count": 12,
   "id": "1217d2b9-8129-422d-b76c-caeda9bf96e6",
   "metadata": {},
   "outputs": [
    {
     "name": "stdout",
     "output_type": "stream",
     "text": [
      "NAME                                             READY   STATUS    RESTARTS   AGE\n",
      "pod/e-commerce-engagement-model-85b4847d-dzczw   1/1     Running   0          6h51m\n",
      "pod/e-commerce-engagement-model-85b4847d-rvgkm   1/1     Running   0          6h51m\n",
      "\n",
      "NAME                                  TYPE        CLUSTER-IP     EXTERNAL-IP      PORT(S)        AGE\n",
      "service/e-commerce-engagement-model   NodePort    10.96.110.39   192.168.68.100   80:30007/TCP   111s\n",
      "service/kubernetes                    ClusterIP   10.96.0.1      192.168.68.99    443/TCP        6h59m\n",
      "\n",
      "NAME                                          READY   UP-TO-DATE   AVAILABLE   AGE\n",
      "deployment.apps/e-commerce-engagement-model   2/2     2            2           6h51m\n",
      "\n",
      "NAME                                                   DESIRED   CURRENT   READY   AGE\n",
      "replicaset.apps/e-commerce-engagement-model-85b4847d   2         2         2       6h51m\n"
     ]
    }
   ],
   "source": [
    "!kubectl get all"
   ]
  },
  {
   "cell_type": "code",
   "execution_count": 13,
   "id": "3b4ec3e5-04c4-49cb-ae8f-3d6e10ffd099",
   "metadata": {},
   "outputs": [
    {
     "name": "stdout",
     "output_type": "stream",
     "text": [
      "Name:                     e-commerce-engagement-model\n",
      "Namespace:                default\n",
      "Labels:                   <none>\n",
      "Annotations:              <none>\n",
      "Selector:                 app=e-commerce-engagement-model\n",
      "Type:                     NodePort\n",
      "IP Family Policy:         SingleStack\n",
      "IP Families:              IPv4\n",
      "IP:                       10.96.110.39\n",
      "IPs:                      10.96.110.39\n",
      "External IPs:             192.168.68.100\n",
      "Port:                     <unset>  80/TCP\n",
      "TargetPort:               8501/TCP\n",
      "NodePort:                 <unset>  30007/TCP\n",
      "Endpoints:                10.244.0.7:8501,10.244.0.8:8501\n",
      "Session Affinity:         None\n",
      "External Traffic Policy:  Cluster\n",
      "Internal Traffic Policy:  Cluster\n",
      "Events:                   <none>\n"
     ]
    }
   ],
   "source": [
    "!kubectl describe service e-commerce-engagement-model\n"
   ]
  },
  {
   "cell_type": "code",
   "execution_count": 14,
   "id": "e811a9ab-c62c-4cda-ab9e-3af17c5732b6",
   "metadata": {},
   "outputs": [
    {
     "name": "stdout",
     "output_type": "stream",
     "text": [
      "curl: (7) Failed to connect to 192.168.68.100 port 30007 after 2137 ms: Connection refused\n"
     ]
    }
   ],
   "source": [
    "!curl -X POST http://192.168.68.100:30007/predict -H \"Content-Type: application/json\" -d '{\"text\": \"Hadiah langsung\"}'\n"
   ]
  },
  {
   "cell_type": "code",
   "execution_count": null,
   "id": "0b58e170-c306-4cda-9d0a-d6f659913546",
   "metadata": {
    "scrolled": true
   },
   "outputs": [],
   "source": []
  }
 ],
 "metadata": {
  "kernelspec": {
   "display_name": "Python 3 (ipykernel)",
   "language": "python",
   "name": "python3"
  },
  "language_info": {
   "codemirror_mode": {
    "name": "ipython",
    "version": 3
   },
   "file_extension": ".py",
   "mimetype": "text/x-python",
   "name": "python",
   "nbconvert_exporter": "python",
   "pygments_lexer": "ipython3",
   "version": "3.11.9"
  }
 },
 "nbformat": 4,
 "nbformat_minor": 5
}
